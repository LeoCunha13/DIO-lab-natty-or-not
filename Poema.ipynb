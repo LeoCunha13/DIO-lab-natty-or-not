{
  "cells": [
    {
      "cell_type": "markdown",
      "metadata": {
        "id": "view-in-github",
        "colab_type": "text"
      },
      "source": [
        "<a href=\"https://colab.research.google.com/github/LeoCunha13/DIO-lab-natty-or-not/blob/main/Poema.ipynb\" target=\"_parent\"><img src=\"https://colab.research.google.com/assets/colab-badge.svg\" alt=\"Open In Colab\"/></a>"
      ]
    },
    {
      "cell_type": "code",
      "execution_count": 2,
      "metadata": {
        "id": "eJ2d2cIhcmyw"
      },
      "outputs": [],
      "source": [
        "import google.generativeai as genai\n",
        "from google.colab import userdata\n",
        "\n",
        "gemini_api_secret_name = 'SECRET_KEY'\n",
        "\n",
        "try:\n",
        "  GOOGLE_API_KEY=userdata.get(gemini_api_secret_name)\n",
        "  genai.configure(api_key=GOOGLE_API_KEY)\n",
        "except userdata.SecretNotFoundError as e:\n",
        "   print(f'Secret not found\\n\\nThis expects you to create a secret named {gemini_api_secret_name} in Colab\\n\\nVisit https://makersuite.google.com/app/apikey to create an API key\\n\\nStore that in the secrets section on the left side of the notebook (key icon)\\n\\nName the secret {gemini_api_secret_name}')\n",
        "   raise e\n",
        "except userdata.NotebookAccessError as e:\n",
        "  print(f'You need to grant this notebook access to the {gemini_api_secret_name} secret in order for the notebook to access Gemini on your behalf.')\n",
        "  raise e\n",
        "except Exception as e:\n",
        "\n",
        "  print(f\"There was an unknown error. Ensure you have a secret {gemini_api_secret_name} stored in Colab and it's a valid key from https://makersuite.google.com/app/apikey\")\n",
        "  raise e"
      ]
    },
    {
      "cell_type": "code",
      "execution_count": 4,
      "metadata": {
        "id": "gM1IZNtDdZuq",
        "colab": {
          "base_uri": "https://localhost:8080/",
          "height": 105
        },
        "outputId": "512373a1-3ded-4b79-e122-b898bca4ae72"
      },
      "outputs": [
        {
          "output_type": "execute_result",
          "data": {
            "text/plain": [
              "'**Infinito Particular**\\n\\nSou um mundo em mim mesmo, um universo em miniatura,\\nOnde a vida e a morte dançam uma valsa obscura.\\nOs pensamentos são estrelas, brilhando no meu céu,\\nE os sentimentos são ondas, quebrando em meu seio.\\n\\nSou um labirinto de palavras, um enigma a ser desvendado,\\nOnde cada esquina oculta um segredo desconhecido.\\nSou um vasto oceano, sempre em movimento,\\nCom suas profundezas misteriosas e suas marés turbulentas.\\n\\nSou um jardim secreto, onde florescem sonhos não ditos,\\nE onde os pássaros do desejo cantam suas doces canções.\\nSou uma música silenciosa, uma melodia sem fim,\\nQue só pode ser ouvida por aqueles que estão dentro de mim.\\n\\nSou um espelho que reflete o mundo, mas também o distorce,\\nCriando uma realidade que é exclusivamente minha.\\nSou um ser único, irrepetível, uma maravilha rara,\\nUm infinito particular, dentro da vastidão do universo.'"
            ],
            "application/vnd.google.colaboratory.intrinsic+json": {
              "type": "string"
            }
          },
          "metadata": {},
          "execution_count": 4
        }
      ],
      "source": [
        "text = 'Crie um poema bem parecido com carlos drumond de andrade' #@param {type: 'string'}\n",
        "\n",
        "model = genai.GenerativeModel('gemini-pro')\n",
        "chat = model.start_chat(history=[])\n",
        "\n",
        "response = chat.send_message(text)\n",
        "response.text"
      ]
    }
  ],
  "metadata": {
    "colab": {
      "provenance": [],
      "include_colab_link": true
    },
    "kernelspec": {
      "display_name": "Python 3",
      "name": "python3"
    },
    "language_info": {
      "name": "python"
    }
  },
  "nbformat": 4,
  "nbformat_minor": 0
}